{
 "cells": [
  {
   "cell_type": "markdown",
   "id": "a8195012",
   "metadata": {},
   "source": [
    "# Exercice à rendre\n",
    "# # ecrire une classe Python nommée Point3D définie par x, y et z \n",
    "\n",
    "### Exercice 1"
   ]
  },
  {
   "cell_type": "code",
   "execution_count": 2,
   "id": "6dfd047f",
   "metadata": {},
   "outputs": [
    {
     "name": "stdout",
     "output_type": "stream",
     "text": [
      "(1, 2, 3)\n"
     ]
    }
   ],
   "source": [
    "class Point3D:\n",
    "    def __init__(self, x, y, z):\n",
    "        self.x = x\n",
    "        self.y = y\n",
    "        self.z = z\n",
    "        \n",
    "    def get_coordinates(self): \n",
    "        return (self.x, self.y, self.z)\n",
    "my_point = Point3D(1, 2, 3)\n",
    "print(my_point.get_coordinates())\n",
    "\n"
   ]
  },
  {
   "cell_type": "markdown",
   "id": "131b3467",
   "metadata": {},
   "source": [
    "# exercice 2\n",
    "\n",
    "# ecrire une classe Python nommée Rectangle construite par une longueur et une largeur"
   ]
  },
  {
   "cell_type": "code",
   "execution_count": 3,
   "id": "fb2068d0",
   "metadata": {},
   "outputs": [
    {
     "name": "stdout",
     "output_type": "stream",
     "text": [
      "L'aire du rectangle est :  15\n",
      "Le périmètre du rectangle est :  16\n"
     ]
    }
   ],
   "source": [
    "class Rectangle:\n",
    "    def __init__(self, longueur, largeur):\n",
    "        self.longueur = longueur\n",
    "        self.largeur = largeur\n",
    "        \n",
    "    def aire(self):\n",
    "        return self.longueur * self.largeur\n",
    "    \n",
    "    def perimetre(self):\n",
    "        return 2 * (self.longueur + self.largeur)\n",
    "\n",
    "my_rectangle = Rectangle(5, 3)\n",
    "print(\"L'aire du rectangle est : \", my_rectangle.aire())\n",
    "print(\"Le périmètre du rectangle est : \", my_rectangle.perimetre())\n"
   ]
  },
  {
   "cell_type": "markdown",
   "id": "759bd665",
   "metadata": {},
   "source": [
    "# Exercice 3 : crivez une classe Python nommée Circle construite par son centre O et son rayon r. Définissons deux méthodes, aire et périmètre, qui calculeront l'aire et le périmètre du cercle, et est la méthode Inside() qui permet de tester si un point A(x, y) appartient au cercle C(O, r) ou non."
   ]
  },
  {
   "cell_type": "code",
   "execution_count": 4,
   "id": "ccdf7921",
   "metadata": {},
   "outputs": [
    {
     "name": "stdout",
     "output_type": "stream",
     "text": [
      "L'aire du cercle est :  78.53981633974483\n",
      "Le périmètre du cercle est :  31.41592653589793\n",
      "Le point (3, 4) appartient au cercle.\n"
     ]
    }
   ],
   "source": [
    "import math\n",
    "\n",
    "class Circle:\n",
    "    def __init__(self, center, rayon):\n",
    "        self.center = center\n",
    "        self.rayon = rayon\n",
    "        \n",
    "    def aire(self):\n",
    "        return math.pi * self.rayon ** 2\n",
    "    \n",
    "    def perimetre(self):\n",
    "        return 2 * math.pi * self.rayon\n",
    "    \n",
    "    def Inside(self, point):\n",
    "        dist = math.sqrt((point[0] - self.center[0]) ** 2 + (point[1] - self.center[1]) ** 2)\n",
    "        return dist <= self.rayon\n",
    "\n",
    "my_circle = Circle((0, 0), 5)\n",
    "print(\"L'aire du cercle est : \", my_circle.aire())\n",
    "print(\"Le périmètre du cercle est : \", my_circle.perimetre())\n",
    "\n",
    "point_a = (3, 4)\n",
    "if my_circle.Inside(point_a):\n",
    "    print(f\"Le point {point_a} appartient au cercle.\")\n",
    "else:\n",
    "    print(f\"Le point {point_a} n'appartient pas au cercle.\")\n"
   ]
  },
  {
   "cell_type": "markdown",
   "id": "3ecf4ffe",
   "metadata": {},
   "source": [
    "# Exercice 4 : modélisons un compte bancaire avec prise en charge des opérations de dépôt et de retrait. \n"
   ]
  },
  {
   "cell_type": "code",
   "execution_count": null,
   "id": "882293c4",
   "metadata": {},
   "outputs": [],
   "source": [
    "class Bank:\n",
    "    \n",
    "    def __init__(self, solde):\n",
    "        self.solde = solde\n",
    "        \n",
    "    def depot(self, montant):\n",
    "        self.solde += montant\n",
    "        print(\"Dépôt de {} effectué. Nouveau solde : {}\".format(montant, self.solde))\n",
    "        \n",
    "    def retrait(self, montant):\n",
    "        if self.solde < montant:\n",
    "            print(\"Solde insuffisant. Retrait impossible.\")\n",
    "        else:\n",
    "            self.solde -= montant\n",
    "            print(\"Retrait de {} effectué. Nouveau solde : {}\".format(montant, self.solde))\n"
   ]
  }
 ],
 "metadata": {
  "kernelspec": {
   "display_name": "Python 3 (ipykernel)",
   "language": "python",
   "name": "python3"
  },
  "language_info": {
   "codemirror_mode": {
    "name": "ipython",
    "version": 3
   },
   "file_extension": ".py",
   "mimetype": "text/x-python",
   "name": "python",
   "nbconvert_exporter": "python",
   "pygments_lexer": "ipython3",
   "version": "3.9.13"
  }
 },
 "nbformat": 4,
 "nbformat_minor": 5
}
