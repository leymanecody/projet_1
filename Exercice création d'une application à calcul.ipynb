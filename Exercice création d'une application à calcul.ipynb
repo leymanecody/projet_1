{
 "cells": [
  {
   "cell_type": "markdown",
   "id": "c5a886dc",
   "metadata": {},
   "source": [
    "# Création  d'une application  à calcul"
   ]
  },
  {
   "cell_type": "markdown",
   "id": "3767814d",
   "metadata": {},
   "source": [
    "# l'instruction de cet exercice est de créer une application\n",
    "# pour éffectuer des calcules"
   ]
  },
  {
   "cell_type": "code",
   "execution_count": null,
   "id": "e2013a8d",
   "metadata": {},
   "outputs": [
    {
     "name": "stdout",
     "output_type": "stream",
     "text": [
      "Choisissez une opération.\n",
      "1. Addition\n",
      "2. Soustraction\n",
      "3. Multiplication\n",
      "4. Division\n"
     ]
    }
   ],
   "source": [
    "# Définir la fonction d'addition\n",
    "def add(a, b):\n",
    "    return a + b\n",
    "\n",
    "# Définir la fonction de soustraction\n",
    "def subtract(a, b):\n",
    "    return a - b\n",
    "\n",
    "# Définir la fonction de multiplication\n",
    "def multiply(a, b):\n",
    "    return a * b\n",
    "\n",
    "# Définir la fonction de division\n",
    "def divide(a, b):\n",
    "    return a / b if b != 0 else \"Erreur: division par zéro\"\n",
    "\n",
    "# Menu principal\n",
    "print(\"Choisissez une opération.\")\n",
    "print(\"1. Addition\")\n",
    "print(\"2. Soustraction\")\n",
    "print(\"3. Multiplication\")\n",
    "print(\"4. Division\")\n",
    "\n",
    "# Demander à l'utilisateur de choisir une opération\n",
    "choice = input(\"Entrez le numéro de l'opération (1/2/3/4): \")\n",
    "\n",
    "# Vérifier que l'utilisateur a entré un choix valide\n",
    "if choice not in ['1', '2', '3', '4']:\n",
    "    print(\"Erreur: opération invalide\")\n",
    "else:\n",
    "    # Demander à l'utilisateur d'entrer deux nombres\n",
    "    num1 = input(\"Entrez le premier nombre: \")\n",
    "    num2 = input(\"Entrez le deuxième nombre: \")\n",
    "\n",
    "    # Vérifier que les nombres sont valides\n",
    "    try:\n",
    "        num1 = float(num1)\n",
    "        num2 = float(num2)\n",
    "    except ValueError:\n",
    "        print(\"Erreur: les nombres doivent être des chiffres\")\n",
    "\n",
    "    # Exécuter l'opération choisie\n",
    "    if choice == '1':\n",
    "        print(num1, \"+\", num2, \"=\", add(num1, num2))\n",
    "\n",
    "    elif choice == '2':\n",
    "        print(num1, \"-\", num2, \"=\", subtract(num1, num2))\n",
    "\n",
    "    elif choice == '3':\n",
    "        print(num1, \"*\", num2, \"=\", multiply(num1, num2))\n",
    "\n",
    "    elif choice == '4':\n",
    "        result = divide(num1, num2)\n",
    "        print(num1, \"/\", num2, \"=\", result)\n",
    "\n"
   ]
  },
  {
   "cell_type": "code",
   "execution_count": null,
   "id": "e5dc58bc",
   "metadata": {},
   "outputs": [],
   "source": []
  }
 ],
 "metadata": {
  "kernelspec": {
   "display_name": "Python 3 (ipykernel)",
   "language": "python",
   "name": "python3"
  },
  "language_info": {
   "codemirror_mode": {
    "name": "ipython",
    "version": 3
   },
   "file_extension": ".py",
   "mimetype": "text/x-python",
   "name": "python",
   "nbconvert_exporter": "python",
   "pygments_lexer": "ipython3",
   "version": "3.9.13"
  }
 },
 "nbformat": 4,
 "nbformat_minor": 5
}
