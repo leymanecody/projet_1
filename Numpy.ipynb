{
 "cells": [
  {
   "cell_type": "markdown",
   "id": "d1301ac5",
   "metadata": {},
   "source": [
    "# Numpy"
   ]
  },
  {
   "cell_type": "markdown",
   "id": "4ad52a0d",
   "metadata": {},
   "source": [
    "# Créer un programme qui calcule les notes des étudiants à l'aide de tableaux Numpy."
   ]
  },
  {
   "cell_type": "code",
   "execution_count": null,
   "id": "ab1d4880",
   "metadata": {},
   "outputs": [],
   "source": [
    "import numpy as np\n",
    "\n",
    "# Demander à l'utilisateur d'entrer le nombre d'étudiants et de matières\n",
    "num_etudiants = int(input(\"Entrez le nombre d'étudiants: \"))\n",
    "num_matieres = int(input(\"Entrez le nombre de matières: \"))\n",
    "\n",
    "# Créer un tableau numpy pour stocker les notes de chaque étudiant dans chaque matière\n",
    "notes = np.zeros((num_etudiants, num_matieres))\n",
    "\n",
    "# Demander à l'utilisateur d'entrer les notes de chaque étudiant dans chaque matière\n",
    "for i in range(num_etudiants):\n",
    "    print(\"Entrez les notes pour l'étudiant\", i + 1)\n",
    "    for j in range(num_matieres):\n",
    "        notes[i][j] = float(input(\"Entrez la note de la matière {}: \".format(j + 1)))\n",
    "\n",
    "# Calculer le total des notes de chaque étudiant\n",
    "total_notes = np.sum(notes, axis=1)\n",
    "\n",
    "# Calculer le pourcentage pour chaque étudiant\n",
    "pourcentage = (total_notes / (num_matieres * 100)) * 100\n",
    "\n",
    "# Calculer la note de chaque étudiant\n",
    "notes_finales = []\n",
    "for i in range(num_etudiants):\n",
    "    if pourcentage[i] >= 90:\n",
    "        notes_finales.append(\"A+\")\n",
    "    elif pourcentage[i] >= 80:\n",
    "        notes_finales.append(\"A\")\n",
    "    elif pourcentage[i] >= 70:\n",
    "        notes_finales.append(\"B+\")\n",
    "    elif pourcentage[i] >= 60:\n",
    "        notes_finales.append(\"B\")\n",
    "    elif pourcentage[i] >= 50:\n",
    "        notes_finales.append(\"C\")\n",
    "    else:\n",
    "        notes_finales.append(\"F\")\n",
    "\n",
    "# Afficher le résultat sous forme de tableau\n",
    "print(\"\\nRÉSULTATS:\\n\")\n",
    "print(\"{:<10} {:<15} {:<15} {}\".format('Étudiant', 'Total des notes', 'Pourcentage', 'Note'))\n",
    "for i in range(num_etudiants):\n",
    "    print(\"{:<10} {:<15} {:<15} {}\".format(i+1, total_notes[i], pourcentage[i], notes_finales[i]))\n"
   ]
  }
 ],
 "metadata": {
  "kernelspec": {
   "display_name": "Python 3 (ipykernel)",
   "language": "python",
   "name": "python3"
  },
  "language_info": {
   "codemirror_mode": {
    "name": "ipython",
    "version": 3
   },
   "file_extension": ".py",
   "mimetype": "text/x-python",
   "name": "python",
   "nbconvert_exporter": "python",
   "pygments_lexer": "ipython3",
   "version": "3.9.13"
  }
 },
 "nbformat": 4,
 "nbformat_minor": 5
}
