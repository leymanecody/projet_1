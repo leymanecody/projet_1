{
 "cells": [
  {
   "cell_type": "markdown",
   "id": "692b4770",
   "metadata": {},
   "source": [
    "# les exercices à rendre"
   ]
  },
  {
   "cell_type": "code",
   "execution_count": null,
   "id": "3f64ff2c",
   "metadata": {},
   "outputs": [],
   "source": [
    "# exo 5 la factorielle d'un nombre"
   ]
  },
  {
   "cell_type": "code",
   "execution_count": 3,
   "id": "6b6b5b8b",
   "metadata": {},
   "outputs": [
    {
     "name": "stdout",
     "output_type": "stream",
     "text": [
      "taper la valeur de n:8\n",
      "factorielle de n est: 64\n",
      "factorielle de n est: 512\n",
      "factorielle de n est: 4096\n",
      "factorielle de n est: 32768\n",
      "factorielle de n est: 262144\n",
      "factorielle de n est: 2097152\n",
      "factorielle de n est: 16777216\n",
      "factorielle de n est: 134217728\n"
     ]
    }
   ],
   "source": [
    "facto = 8\n",
    "n = int (input(\"taper la valeur de n:\"))\n",
    "for i in range (1, n + 1):\n",
    "    facto = facto * 8\n",
    "    print(\"factorielle de n est:\", facto)"
   ]
  },
  {
   "cell_type": "code",
   "execution_count": null,
   "id": "a4dbe013",
   "metadata": {},
   "outputs": [],
   "source": [
    "# exercice 4: ecrire un programme d'oû les nombres sont divisibles par 7 mais ne sont pas multiple 5"
   ]
  },
  {
   "cell_type": "code",
   "execution_count": 5,
   "id": "3798e014",
   "metadata": {},
   "outputs": [],
   "source": [
    "list = [x for x in range(2000,3000) if x % 7 == 0 and x % 5 != 0]"
   ]
  },
  {
   "cell_type": "code",
   "execution_count": 6,
   "id": "1c578702",
   "metadata": {},
   "outputs": [
    {
     "name": "stdout",
     "output_type": "stream",
     "text": [
      "[2002, 2009, 2016, 2023, 2037, 2044, 2051, 2058, 2072, 2079, 2086, 2093, 2107, 2114, 2121, 2128, 2142, 2149, 2156, 2163, 2177, 2184, 2191, 2198, 2212, 2219, 2226, 2233, 2247, 2254, 2261, 2268, 2282, 2289, 2296, 2303, 2317, 2324, 2331, 2338, 2352, 2359, 2366, 2373, 2387, 2394, 2401, 2408, 2422, 2429, 2436, 2443, 2457, 2464, 2471, 2478, 2492, 2499, 2506, 2513, 2527, 2534, 2541, 2548, 2562, 2569, 2576, 2583, 2597, 2604, 2611, 2618, 2632, 2639, 2646, 2653, 2667, 2674, 2681, 2688, 2702, 2709, 2716, 2723, 2737, 2744, 2751, 2758, 2772, 2779, 2786, 2793, 2807, 2814, 2821, 2828, 2842, 2849, 2856, 2863, 2877, 2884, 2891, 2898, 2912, 2919, 2926, 2933, 2947, 2954, 2961, 2968, 2982, 2989, 2996]\n"
     ]
    }
   ],
   "source": [
    "print(list)"
   ]
  },
  {
   "cell_type": "markdown",
   "id": "f0f6f488",
   "metadata": {},
   "source": [
    "\"\"\"ecrire un programme avecu nom et Prenom Exercice 1\"\"\" "
   ]
  },
  {
   "cell_type": "code",
   "execution_count": 7,
   "id": "c1000969",
   "metadata": {},
   "outputs": [],
   "source": [
    "nom = \"Sow\"\n",
    "prenom = \"Souleymane\""
   ]
  },
  {
   "cell_type": "code",
   "execution_count": 8,
   "id": "571aaad9",
   "metadata": {},
   "outputs": [
    {
     "name": "stdout",
     "output_type": "stream",
     "text": [
      "je m'appelle Sow Souleymane\n"
     ]
    }
   ],
   "source": [
    "print(\"je m'appelle\", nom, prenom)"
   ]
  },
  {
   "cell_type": "code",
   "execution_count": null,
   "id": "656baba6",
   "metadata": {},
   "outputs": [],
   "source": [
    "# exercice 2: ecrire un programm qui accepete un entier n"
   ]
  },
  {
   "cell_type": "code",
   "execution_count": 9,
   "id": "a4532485",
   "metadata": {},
   "outputs": [],
   "source": [
    "n = 5\n",
    "nn = 55\n",
    "nnn = 555"
   ]
  },
  {
   "cell_type": "code",
   "execution_count": 10,
   "id": "248049d9",
   "metadata": {},
   "outputs": [
    {
     "name": "stdout",
     "output_type": "stream",
     "text": [
      "la somme est de: 615\n"
     ]
    }
   ],
   "source": [
    "print(\"la somme est de:\", n + nn + nnn)"
   ]
  },
  {
   "cell_type": "code",
   "execution_count": null,
   "id": "fc8acb3c",
   "metadata": {},
   "outputs": [],
   "source": [
    "# ecrire 3: un programme si le nombre est pair ou impair"
   ]
  },
  {
   "cell_type": "code",
   "execution_count": null,
   "id": "998efba7",
   "metadata": {},
   "outputs": [],
   "source": [
    "n = input(\"taper la valeur n:\")\n",
    "n = int(n)\n",
    "r = n % 2\n",
    "if(r == 0):\n",
    "    print(\"le nombre n tapé est pair\")\n",
    "else:\n",
    "    print(\"le nombre n tapé est impair\")"
   ]
  },
  {
   "cell_type": "code",
   "execution_count": null,
   "id": "80c1bd16",
   "metadata": {},
   "outputs": [],
   "source": [
    "# supprimer les valeurs d'une chaine de caractère"
   ]
  },
  {
   "cell_type": "code",
   "execution_count": null,
   "id": "b16533a4",
   "metadata": {},
   "outputs": [],
   "source": []
  }
 ],
 "metadata": {
  "kernelspec": {
   "display_name": "Python 3 (ipykernel)",
   "language": "python",
   "name": "python3"
  },
  "language_info": {
   "codemirror_mode": {
    "name": "ipython",
    "version": 3
   },
   "file_extension": ".py",
   "mimetype": "text/x-python",
   "name": "python",
   "nbconvert_exporter": "python",
   "pygments_lexer": "ipython3",
   "version": "3.9.13"
  }
 },
 "nbformat": 4,
 "nbformat_minor": 5
}
