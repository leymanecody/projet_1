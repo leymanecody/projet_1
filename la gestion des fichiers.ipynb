{
 "cells": [
  {
   "cell_type": "markdown",
   "id": "62f1fc10",
   "metadata": {},
   "source": [
    "# point de controle\n"
   ]
  },
  {
   "cell_type": "code",
   "execution_count": 1,
   "id": "5dc08400",
   "metadata": {},
   "outputs": [],
   "source": [
    "# lisons le fichier\n",
    "with open(\"python.txt\",\"r\") as f:\n",
    "    text = f.read()"
   ]
  },
  {
   "cell_type": "code",
   "execution_count": 2,
   "id": "70cd019a",
   "metadata": {},
   "outputs": [
    {
     "name": "stdout",
     "output_type": "stream",
     "text": [
      "What is Python language?                                                \n",
      "Python is a widely used high-level, general-purpose, interpreted, dynamic programming language.Its design philosophy emphasizes code readability, and its syntax allows programmers to express concepts in fewer lines of code than possible in \n",
      "languages such as C++ or Java. \n",
      "Python supports multiple programming paradigms, including object-oriented, imperative and functional programming or procedural styles. It features a dynamic type system and automatic memory management and has a large and comprehensive standard library.The best way we learn anything is by practice and exercise questions. We  have started this section for those (beginner to intermediate) who are familiar with Python.\n"
     ]
    }
   ],
   "source": [
    "print(text)"
   ]
  },
  {
   "cell_type": "code",
   "execution_count": 26,
   "id": "6df4d266",
   "metadata": {},
   "outputs": [
    {
     "name": "stdout",
     "output_type": "stream",
     "text": [
      "What is Python language?                                                \n",
      "\n",
      "Python is a widely used high-level, general-purpose, interpreted, dynamic programming language.Its design philosophy emphasizes code readability, and its syntax allows programmers to express concepts in fewer lines of code than possible in \n",
      "\n",
      "languages such as C++ or Java. \n",
      "\n",
      "Python supports multiple programming paradigms, including object-oriented, imperative and functional programming or procedural styles. It features a dynamic type system and automatic memory management and has a large and comprehensive standard library.The best way we learn anything is by practice and exercise questions. We  have started this section for those (beginner to intermediate) who are familiar with Python.\n",
      "\n"
     ]
    }
   ],
   "source": [
    "# Ouvrons le fichier python\n",
    "with open('python.txt', 'r') as f:\n",
    "    # voici un programme pour lire les 5 premeieres ligne\n",
    "    n = 5\n",
    "    for i in range(n):\n",
    "        lignes = f.readline()\n",
    "        print(lignes)\n",
    "\n"
   ]
  },
  {
   "cell_type": "code",
   "execution_count": 13,
   "id": "f11f23c4",
   "metadata": {},
   "outputs": [
    {
     "name": "stdout",
     "output_type": "stream",
     "text": [
      "100\n"
     ]
    }
   ],
   "source": [
    "with open(\"python.txt\", \"r\") as f:\n",
    "    contenu = f.read()\n",
    "    # calcul du nombre de mots\n",
    "    nombre_mots = len(contenu.split())\n",
    "    # affichons le résultat\n",
    "    print(nombre_mots)"
   ]
  },
  {
   "cell_type": "code",
   "execution_count": 29,
   "id": "f6158b1a",
   "metadata": {},
   "outputs": [
    {
     "name": "stdout",
     "output_type": "stream",
     "text": [
      "Python is a widely used high-level, general-purpose, interpreted, dynamic programming language.Its design philosophy emphasizes code readability, and its syntax allows programmers to express concepts in fewer lines of code than possible in\n",
      "languages such as C++ or Java.\n",
      "Python supports multiple programming paradigms, including object-oriented, imperative and functional programming or procedural styles. It features a dynamic type system and automatic memory management and has a large and comprehensive standard library.The best way we learn anything is by practice and exercise questions. We  have started this section for those (beginner to intermediate) who are familiar with Python.\n"
     ]
    }
   ],
   "source": [
    "# Ouverture du fichier en mode lecture\n",
    "with open(\"python.txt\", \"r\") as f:\n",
    "    # Utilisation de la méthode readlines() pour obtenir les cinq dernieres lignes du fichier\n",
    "    dernieres_lignes = f.readlines()[-3:]\n",
    "\n",
    "# Affichage des cinq dernières lignes\n",
    "for lignees in dernieres_lignes:\n",
    "    print(lignees.strip())"
   ]
  },
  {
   "cell_type": "code",
   "execution_count": 22,
   "id": "819f16bb",
   "metadata": {},
   "outputs": [
    {
     "name": "stdout",
     "output_type": "stream",
     "text": [
      "v\n",
      "a\n",
      ".\n",
      "\n",
      "\n"
     ]
    }
   ],
   "source": [
    "# indication des dernieres lignes\n",
    "n = 5\n",
    "# ouverture du fichier en mode lecture\n",
    "with open(\"python.txt\", \"r\") as f:\n",
    "    # obtenons toutes les lignes\n",
    "    lign = f.readlines()\n",
    "# Récupération des n dernières lignes à partir de la fin de la liste    \n",
    "    dernieres_lignes = lignes[-n:]\n",
    "    for lign in dernieres_lignes:\n",
    "        print(lign.strip())\n",
    "        \n",
    "    "
   ]
  },
  {
   "cell_type": "code",
   "execution_count": null,
   "id": "e1b3b55e",
   "metadata": {},
   "outputs": [],
   "source": []
  }
 ],
 "metadata": {
  "kernelspec": {
   "display_name": "Python 3 (ipykernel)",
   "language": "python",
   "name": "python3"
  },
  "language_info": {
   "codemirror_mode": {
    "name": "ipython",
    "version": 3
   },
   "file_extension": ".py",
   "mimetype": "text/x-python",
   "name": "python",
   "nbconvert_exporter": "python",
   "pygments_lexer": "ipython3",
   "version": "3.9.13"
  }
 },
 "nbformat": 4,
 "nbformat_minor": 5
}
