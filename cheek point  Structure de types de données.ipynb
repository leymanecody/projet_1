{
 "cells": [
  {
   "cell_type": "markdown",
   "id": "937673a0",
   "metadata": {},
   "source": [
    "# Structure de types de données en python:\n",
    "\n",
    "# Exercice à rendre"
   ]
  },
  {
   "cell_type": "markdown",
   "id": "560f6146",
   "metadata": {},
   "source": [
    "## Exercice 1\n"
   ]
  },
  {
   "cell_type": "code",
   "execution_count": 12,
   "id": "89a3f9d9",
   "metadata": {},
   "outputs": [
    {
     "name": "stdout",
     "output_type": "stream",
     "text": [
      "le produit de tous les elements de la liste est: 2\n",
      "le produit de tous les elements de la liste est: 6\n",
      "le produit de tous les elements de la liste est: 36\n"
     ]
    }
   ],
   "source": [
    "# Écrire un programme Python qui multiplie tous les éléments d'une liste.\n",
    "# liste d'échantillons = [2, 3, 6]\n",
    "liste_echantillons = [2, 3, 6]\n",
    "resultat = 1 # initialisation de la vraiable resultat.\n",
    "for element in liste_echantillons: # on appelle liste_echantillons par la boucle for\n",
    "    resultat *= element\n",
    "    print(\"le produit de tous les elements de la liste est:\", resultat) # affichage du résultat\n",
    "    \n",
    "    \n",
    "\n"
   ]
  },
  {
   "cell_type": "markdown",
   "id": "93af3d96",
   "metadata": {},
   "source": [
    "# Exercice 2"
   ]
  },
  {
   "cell_type": "code",
   "execution_count": null,
   "id": "c616774e",
   "metadata": {},
   "outputs": [],
   "source": [
    "#Écrivez un programme Python pour obtenir une liste,\n",
    "#triée par ordre croissant par le dernier élément de chaque tuple,à partir d'une liste donnée de tuples non vides.\n",
    "# Liste d'échantillons : [(2, 5), (1, 2), (4, 4), (2, 3), (2, 1)]\n",
    "\n",
    "ma_liste = [(2, 5), (1, 2), (4, 4), (2, 3), (2, 1)\n",
    "                       "
   ]
  },
  {
   "cell_type": "code",
   "execution_count": 55,
   "id": "0b1a5e2c",
   "metadata": {},
   "outputs": [],
   "source": [
    "liste_trie = sorted(ma_liste)"
   ]
  },
  {
   "cell_type": "code",
   "execution_count": 56,
   "id": "65f95a17",
   "metadata": {},
   "outputs": [
    {
     "name": "stdout",
     "output_type": "stream",
     "text": [
      "le resultat du trie par ordre croissant est: [(1, 2), (2, 1), (2, 3), (2, 5), (4, 4)]\n"
     ]
    }
   ],
   "source": [
    "print(\"le resultat du trie par ordre croissant est:\", liste_trie)"
   ]
  },
  {
   "cell_type": "markdown",
   "id": "ae447b26",
   "metadata": {},
   "source": [
    "# Exercice 3"
   ]
  },
  {
   "cell_type": "code",
   "execution_count": null,
   "id": "a216e3b7",
   "metadata": {},
   "outputs": [],
   "source": [
    "# Écrivez un programme Python qui combine deux dictionnaires en ajoutant des valeurs pour les clés communes.\n",
    "# énoncé \n",
    "#d1 = {'a' : 100, 'b' : 200, 'c' : 300}\n",
    "\n",
    "#d2 = {'a' : 300, 'b' : 200, 'd' : 400}\n"
   ]
  },
  {
   "cell_type": "code",
   "execution_count": 67,
   "id": "6e7234f5",
   "metadata": {},
   "outputs": [],
   "source": [
    "d1 = {'a' : 100, 'b' : 200, 'c' : 300}\n",
    "d2 = {'a' : 300, 'b' : 200, 'd' : 400}\n"
   ]
  },
  {
   "cell_type": "code",
   "execution_count": 70,
   "id": "f6c79b9a",
   "metadata": {},
   "outputs": [],
   "source": [
    "d3 = d1.copy() # copie de d1 = D3\n",
    "for cle,valeur in d2.items():   # utiliser la boucle For pour appeler les clés et les valeurqs\n",
    "    d3[cle] = d3.get(cle, 0) + valeur  # get est utilisé pour récupere les clés "
   ]
  },
  {
   "cell_type": "code",
   "execution_count": 71,
   "id": "83b0f6f3",
   "metadata": {},
   "outputs": [
    {
     "name": "stdout",
     "output_type": "stream",
     "text": [
      "{'a': 400, 'b': 400, 'c': 300, 'd': 400}\n"
     ]
    }
   ],
   "source": [
    "print(d3)"
   ]
  },
  {
   "cell_type": "markdown",
   "id": "af8c537e",
   "metadata": {},
   "source": [
    "# Exercice 4"
   ]
  },
  {
   "cell_type": "code",
   "execution_count": null,
   "id": "fd52c31a",
   "metadata": {},
   "outputs": [],
   "source": [
    "# ecrire un nombre entier donné n,pour générer un dictionnaire\n",
    "#qui contient (i, i*i) où i est un nombre entier entre 1 et n (inclus) "
   ]
  },
  {
   "cell_type": "code",
   "execution_count": 8,
   "id": "920b37ed",
   "metadata": {},
   "outputs": [
    {
     "name": "stdout",
     "output_type": "stream",
     "text": [
      "saisir le nombre8\n",
      "{1: 1}\n",
      "{1: 1, 2: 4}\n",
      "{1: 1, 2: 4, 3: 9}\n",
      "{1: 1, 2: 4, 3: 9, 4: 16}\n",
      "{1: 1, 2: 4, 3: 9, 4: 16, 5: 25}\n",
      "{1: 1, 2: 4, 3: 9, 4: 16, 5: 25, 6: 36}\n",
      "{1: 1, 2: 4, 3: 9, 4: 16, 5: 25, 6: 36, 7: 49}\n",
      "{1: 1, 2: 4, 3: 9, 4: 16, 5: 25, 6: 36, 7: 49, 8: 64}\n"
     ]
    }
   ],
   "source": [
    "n = int(input(\"saisir le nombre\"))\n",
    "dict_resultat = {}\n",
    "for i in range(1, n+1): # utlisation de for et range, n+1 pour faire un arrêt \n",
    "    dict_resultat[i] = i*i # i*i c'est pour la multiplication\n",
    "    print(dict_resultat) # resultat"
   ]
  },
  {
   "cell_type": "markdown",
   "id": "0906a973",
   "metadata": {},
   "source": [
    "# Exercice 5"
   ]
  },
  {
   "cell_type": "code",
   "execution_count": 23,
   "id": "f580cc54",
   "metadata": {},
   "outputs": [
    {
     "name": "stdout",
     "output_type": "stream",
     "text": [
      "[('item3', '24.5'), ('item2', '15.10'), ('item1', '12.20')]\n"
     ]
    }
   ],
   "source": [
    "# ecrire un programme pour trier un tuple en fonction de son element en virgule flottante\n",
    "tup= [('item1', '12.20'), ('item2', '15.10'), ('item3', '24.5')]\n",
    "\n",
    "#on va trier tup, passoms une foonct. lambda, ensuite x converir en en float\n",
    "sorted_tup = sorted(tup, key = lambda x: float(x[1]), reverse= True)\n",
    "# resultat\n",
    "print(sorted_tup)"
   ]
  },
  {
   "cell_type": "markdown",
   "id": "e0fa8176",
   "metadata": {},
   "source": [
    "# Execice 6"
   ]
  },
  {
   "cell_type": "code",
   "execution_count": null,
   "id": "f73e84f9",
   "metadata": {},
   "outputs": [],
   "source": [
    "### 1\n",
    "# ecrire un programme pour créer un ensemble \n",
    "set = {\"babou\",\"papa\",\"dieynaba\"}"
   ]
  },
  {
   "cell_type": "code",
   "execution_count": 2,
   "id": "6eac9af1",
   "metadata": {},
   "outputs": [
    {
     "name": "stdout",
     "output_type": "stream",
     "text": [
      "1\n",
      "3\n",
      "5\n",
      "7\n",
      "8\n",
      "9\n",
      "11\n",
      "12\n",
      "13\n"
     ]
    }
   ],
   "source": [
    "# ecrire un programme python pour itérer sur des ensmbles\n",
    "set_deux = {1,3,5,7,8,9,11,12,13}\n",
    "for n in set_deux: # on utilisé la boucle for ou ajouter range pour l'itération, on peut aussi utiliser while\n",
    "    print(n)"
   ]
  },
  {
   "cell_type": "code",
   "execution_count": 3,
   "id": "09e879ff",
   "metadata": {},
   "outputs": [],
   "source": [
    "# ecrire  un programme Python pour ajouter des membres dans un ensemble et pour supprimer des éléments d'un ensemble donné.\n",
    "nom = set() # ensemble set\n",
    "# ajout des elements nom.add\n",
    "nom.add(\"region\")\n",
    "nom.add(\"ville\")\n",
    "nom.add(\"departement\")\n",
    "nom.add(\"commune\")\n",
    " "
   ]
  },
  {
   "cell_type": "code",
   "execution_count": 4,
   "id": "21c85e38",
   "metadata": {},
   "outputs": [
    {
     "name": "stdout",
     "output_type": "stream",
     "text": [
      "{'ville', 'commune', 'departement', 'region'}\n"
     ]
    }
   ],
   "source": [
    "print(nom)# résultat"
   ]
  },
  {
   "cell_type": "code",
   "execution_count": 6,
   "id": "2c497c2b",
   "metadata": {},
   "outputs": [],
   "source": [
    "nom.remove(\"departement\")# remove utilisé pour faire la suppression"
   ]
  },
  {
   "cell_type": "code",
   "execution_count": 8,
   "id": "2a253090",
   "metadata": {},
   "outputs": [
    {
     "name": "stdout",
     "output_type": "stream",
     "text": [
      "{'ville', 'commune', 'region'}\n"
     ]
    }
   ],
   "source": [
    "print(nom) # resultat "
   ]
  },
  {
   "cell_type": "code",
   "execution_count": null,
   "id": "9bb14bf6",
   "metadata": {},
   "outputs": [],
   "source": []
  }
 ],
 "metadata": {
  "kernelspec": {
   "display_name": "Python 3 (ipykernel)",
   "language": "python",
   "name": "python3"
  },
  "language_info": {
   "codemirror_mode": {
    "name": "ipython",
    "version": 3
   },
   "file_extension": ".py",
   "mimetype": "text/x-python",
   "name": "python",
   "nbconvert_exporter": "python",
   "pygments_lexer": "ipython3",
   "version": "3.9.13"
  }
 },
 "nbformat": 4,
 "nbformat_minor": 5
}
